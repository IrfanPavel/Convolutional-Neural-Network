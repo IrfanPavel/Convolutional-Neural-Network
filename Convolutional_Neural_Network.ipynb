{
  "nbformat": 4,
  "nbformat_minor": 0,
  "metadata": {
    "colab": {
      "name": "Convolutional Neural Network",
      "provenance": [],
      "collapsed_sections": [],
      "include_colab_link": true
    },
    "kernelspec": {
      "display_name": "Python 3",
      "name": "python3"
    }
  },
  "cells": [
    {
      "cell_type": "markdown",
      "metadata": {
        "id": "view-in-github",
        "colab_type": "text"
      },
      "source": [
        "<a href=\"https://colab.research.google.com/github/IrfanPavel/Convolutional-Neural-Network/blob/main/Convolutional_Neural_Network.ipynb\" target=\"_parent\"><img src=\"https://colab.research.google.com/assets/colab-badge.svg\" alt=\"Open In Colab\"/></a>"
      ]
    },
    {
      "cell_type": "code",
      "metadata": {
        "id": "aA52_8UW6ppw"
      },
      "source": [
        "import numpy as np\r\n",
        "import pandas as pd\r\n",
        "%matplotlib inline\r\n",
        "import matplotlib as mpl\r\n",
        "import matplotlib.pyplot as plt\r\n"
      ],
      "execution_count": null,
      "outputs": []
    },
    {
      "cell_type": "code",
      "metadata": {
        "id": "unkWnfBkLKKw"
      },
      "source": [
        "import tensorflow as tf\r\n",
        "from tensorflow import keras\r\n"
      ],
      "execution_count": null,
      "outputs": []
    },
    {
      "cell_type": "code",
      "metadata": {
        "id": "sQCfw2HqNT9r",
        "colab": {
          "base_uri": "https://localhost:8080/"
        },
        "outputId": "a1e4998e-7a6d-411d-8460-b841666a0e7f"
      },
      "source": [
        "fashion_mnist= keras.datasets.fashion_mnist\r\n",
        "(X_train_full,y_train_full),(X_test,y_test)=fashion_mnist.load_data()"
      ],
      "execution_count": null,
      "outputs": [
        {
          "output_type": "stream",
          "text": [
            "Downloading data from https://storage.googleapis.com/tensorflow/tf-keras-datasets/train-labels-idx1-ubyte.gz\n",
            "32768/29515 [=================================] - 0s 0us/step\n",
            "Downloading data from https://storage.googleapis.com/tensorflow/tf-keras-datasets/train-images-idx3-ubyte.gz\n",
            "26427392/26421880 [==============================] - 0s 0us/step\n",
            "Downloading data from https://storage.googleapis.com/tensorflow/tf-keras-datasets/t10k-labels-idx1-ubyte.gz\n",
            "8192/5148 [===============================================] - 0s 0us/step\n",
            "Downloading data from https://storage.googleapis.com/tensorflow/tf-keras-datasets/t10k-images-idx3-ubyte.gz\n",
            "4423680/4422102 [==============================] - 0s 0us/step\n"
          ],
          "name": "stdout"
        }
      ]
    },
    {
      "cell_type": "code",
      "metadata": {
        "id": "ASJrQy1WPo3a"
      },
      "source": [
        "class_names = [\"T-shirt/top\",\"Trouser\",\"Pullover\",\"Dress\",\"Coat\",\"Sandal\",\"Shirt\",\"Sneaker\",\"Bag\",\"Ankle boot\"]"
      ],
      "execution_count": null,
      "outputs": []
    },
    {
      "cell_type": "markdown",
      "metadata": {
        "id": "dyliMUGPQIUs"
      },
      "source": [
        "# **Data Reshape**"
      ]
    },
    {
      "cell_type": "code",
      "metadata": {
        "id": "2yUKnIp4QM_j"
      },
      "source": [
        "X_train_full=X_train_full.reshape(60000,28,28,1)\r\n",
        "X_test= X_test.reshape(10000,28,28,1)"
      ],
      "execution_count": null,
      "outputs": []
    },
    {
      "cell_type": "markdown",
      "metadata": {
        "id": "BZbpwUCXQ9pr"
      },
      "source": [
        "# Data **Normalization** "
      ]
    },
    {
      "cell_type": "code",
      "metadata": {
        "id": "1AFHUCGsRFFG"
      },
      "source": [
        "X_train_n= X_train_full/255\r\n",
        "X_test_n=X_test/255"
      ],
      "execution_count": null,
      "outputs": []
    },
    {
      "cell_type": "code",
      "metadata": {
        "id": "R58yXqzWCEsC"
      },
      "source": [
        "X_valid, X_train= X_train_n[:5000],X_train_n[5000:]\r\n",
        "y_valid,y_train= y_train_full[:5000],y_train_full[5000:]\r\n",
        "X_test=X_test_n"
      ],
      "execution_count": null,
      "outputs": []
    },
    {
      "cell_type": "code",
      "metadata": {
        "id": "06pvIdkHCzFb"
      },
      "source": [
        "np.random.seed(42)\r\n",
        "tf.random.set_seed(42)"
      ],
      "execution_count": null,
      "outputs": []
    },
    {
      "cell_type": "code",
      "metadata": {
        "id": "f8tlrDBEExo_"
      },
      "source": [
        "model= keras.models.Sequential()\r\n",
        "model.add(keras.layers.Conv2D(filters=32,kernel_size=(3,3),strides=1,padding='valid',activation='relu',input_shape=(28,28,1)))\r\n",
        "model.add(keras.layers.MaxPooling2D((2,2)))\r\n",
        "model.add(keras.layers.Flatten())\r\n",
        "model.add(keras.layers.Dense(300,activation='relu'))\r\n",
        "model.add(keras.layers.Dense(100,activation='relu'))\r\n",
        "model.add(keras.layers.Dense(10,activation='softmax'))"
      ],
      "execution_count": null,
      "outputs": []
    },
    {
      "cell_type": "code",
      "metadata": {
        "colab": {
          "base_uri": "https://localhost:8080/"
        },
        "id": "Ua7VquGxHSyr",
        "outputId": "c737d333-9a8c-406f-ff79-d512a6eceffe"
      },
      "source": [
        "model.summary()"
      ],
      "execution_count": null,
      "outputs": [
        {
          "output_type": "stream",
          "text": [
            "Model: \"sequential_1\"\n",
            "_________________________________________________________________\n",
            "Layer (type)                 Output Shape              Param #   \n",
            "=================================================================\n",
            "conv2d_1 (Conv2D)            (None, 26, 26, 32)        320       \n",
            "_________________________________________________________________\n",
            "max_pooling2d_1 (MaxPooling2 (None, 13, 13, 32)        0         \n",
            "_________________________________________________________________\n",
            "flatten_1 (Flatten)          (None, 5408)              0         \n",
            "_________________________________________________________________\n",
            "dense_3 (Dense)              (None, 300)               1622700   \n",
            "_________________________________________________________________\n",
            "dense_4 (Dense)              (None, 100)               30100     \n",
            "_________________________________________________________________\n",
            "dense_5 (Dense)              (None, 10)                1010      \n",
            "=================================================================\n",
            "Total params: 1,654,130\n",
            "Trainable params: 1,654,130\n",
            "Non-trainable params: 0\n",
            "_________________________________________________________________\n"
          ],
          "name": "stdout"
        }
      ]
    },
    {
      "cell_type": "code",
      "metadata": {
        "id": "bPVaNGwLIn7q"
      },
      "source": [
        "model.compile(loss='sparse_categorical_crossentropy',\r\n",
        "              optimizer=\"sgd\",\r\n",
        "              metrics=[\"accuracy\"])"
      ],
      "execution_count": null,
      "outputs": []
    },
    {
      "cell_type": "code",
      "metadata": {
        "id": "FTmJOtJiI9hs",
        "colab": {
          "base_uri": "https://localhost:8080/"
        },
        "outputId": "d4187642-b0ec-4fc4-e84a-d2c694ebcaf0"
      },
      "source": [
        "model_history= model.fit(X_train,y_train,epochs=64,batch_size=64,validation_data=(X_valid,y_valid))"
      ],
      "execution_count": 20,
      "outputs": [
        {
          "output_type": "stream",
          "text": [
            "Epoch 1/64\n",
            "860/860 [==============================] - 34s 40ms/step - loss: 0.2064 - accuracy: 0.9251 - val_loss: 0.2785 - val_accuracy: 0.8992\n",
            "Epoch 2/64\n",
            "860/860 [==============================] - 35s 41ms/step - loss: 0.2023 - accuracy: 0.9264 - val_loss: 0.2643 - val_accuracy: 0.9032\n",
            "Epoch 3/64\n",
            "860/860 [==============================] - 35s 41ms/step - loss: 0.1987 - accuracy: 0.9273 - val_loss: 0.4578 - val_accuracy: 0.8362\n",
            "Epoch 4/64\n",
            "860/860 [==============================] - 38s 44ms/step - loss: 0.1947 - accuracy: 0.9290 - val_loss: 0.2810 - val_accuracy: 0.8974\n",
            "Epoch 5/64\n",
            "860/860 [==============================] - 35s 41ms/step - loss: 0.1931 - accuracy: 0.9290 - val_loss: 0.2583 - val_accuracy: 0.9076\n",
            "Epoch 6/64\n",
            "860/860 [==============================] - 35s 41ms/step - loss: 0.1874 - accuracy: 0.9320 - val_loss: 0.2542 - val_accuracy: 0.9088\n",
            "Epoch 7/64\n",
            "860/860 [==============================] - 35s 41ms/step - loss: 0.1840 - accuracy: 0.9325 - val_loss: 0.2692 - val_accuracy: 0.9046\n",
            "Epoch 8/64\n",
            "860/860 [==============================] - 35s 41ms/step - loss: 0.1802 - accuracy: 0.9350 - val_loss: 0.3042 - val_accuracy: 0.8900\n",
            "Epoch 9/64\n",
            "860/860 [==============================] - 36s 41ms/step - loss: 0.1767 - accuracy: 0.9361 - val_loss: 0.2532 - val_accuracy: 0.9090\n",
            "Epoch 10/64\n",
            "860/860 [==============================] - 36s 41ms/step - loss: 0.1725 - accuracy: 0.9375 - val_loss: 0.2611 - val_accuracy: 0.9046\n",
            "Epoch 11/64\n",
            "860/860 [==============================] - 36s 41ms/step - loss: 0.1694 - accuracy: 0.9385 - val_loss: 0.2483 - val_accuracy: 0.9102\n",
            "Epoch 12/64\n",
            "860/860 [==============================] - 36s 42ms/step - loss: 0.1658 - accuracy: 0.9394 - val_loss: 0.2502 - val_accuracy: 0.9114\n",
            "Epoch 13/64\n",
            "860/860 [==============================] - 36s 41ms/step - loss: 0.1624 - accuracy: 0.9420 - val_loss: 0.2841 - val_accuracy: 0.9002\n",
            "Epoch 14/64\n",
            "860/860 [==============================] - 36s 42ms/step - loss: 0.1603 - accuracy: 0.9421 - val_loss: 0.2885 - val_accuracy: 0.8950\n",
            "Epoch 15/64\n",
            "860/860 [==============================] - 36s 42ms/step - loss: 0.1556 - accuracy: 0.9441 - val_loss: 0.2681 - val_accuracy: 0.9050\n",
            "Epoch 16/64\n",
            "860/860 [==============================] - 36s 42ms/step - loss: 0.1532 - accuracy: 0.9449 - val_loss: 0.2488 - val_accuracy: 0.9098\n",
            "Epoch 17/64\n",
            "860/860 [==============================] - 36s 41ms/step - loss: 0.1483 - accuracy: 0.9475 - val_loss: 0.3392 - val_accuracy: 0.8894\n",
            "Epoch 18/64\n",
            "860/860 [==============================] - 36s 41ms/step - loss: 0.1466 - accuracy: 0.9478 - val_loss: 0.2885 - val_accuracy: 0.9056\n",
            "Epoch 19/64\n",
            "860/860 [==============================] - 35s 41ms/step - loss: 0.1428 - accuracy: 0.9485 - val_loss: 0.2823 - val_accuracy: 0.9070\n",
            "Epoch 20/64\n",
            "860/860 [==============================] - 36s 42ms/step - loss: 0.1396 - accuracy: 0.9507 - val_loss: 0.2724 - val_accuracy: 0.9050\n",
            "Epoch 21/64\n",
            "860/860 [==============================] - 36s 42ms/step - loss: 0.1364 - accuracy: 0.9515 - val_loss: 0.2526 - val_accuracy: 0.9098\n",
            "Epoch 22/64\n",
            "860/860 [==============================] - 36s 42ms/step - loss: 0.1332 - accuracy: 0.9529 - val_loss: 0.2597 - val_accuracy: 0.9072\n",
            "Epoch 23/64\n",
            "860/860 [==============================] - 37s 43ms/step - loss: 0.1299 - accuracy: 0.9533 - val_loss: 0.2671 - val_accuracy: 0.9076\n",
            "Epoch 24/64\n",
            "860/860 [==============================] - 36s 42ms/step - loss: 0.1259 - accuracy: 0.9558 - val_loss: 0.2689 - val_accuracy: 0.9076\n",
            "Epoch 25/64\n",
            "860/860 [==============================] - 36s 42ms/step - loss: 0.1236 - accuracy: 0.9553 - val_loss: 0.2588 - val_accuracy: 0.9138\n",
            "Epoch 26/64\n",
            "860/860 [==============================] - 36s 42ms/step - loss: 0.1214 - accuracy: 0.9573 - val_loss: 0.2546 - val_accuracy: 0.9152\n",
            "Epoch 27/64\n",
            "860/860 [==============================] - 36s 42ms/step - loss: 0.1179 - accuracy: 0.9590 - val_loss: 0.2578 - val_accuracy: 0.9120\n",
            "Epoch 28/64\n",
            "860/860 [==============================] - 36s 42ms/step - loss: 0.1155 - accuracy: 0.9596 - val_loss: 0.2731 - val_accuracy: 0.9094\n",
            "Epoch 29/64\n",
            "860/860 [==============================] - 36s 42ms/step - loss: 0.1120 - accuracy: 0.9611 - val_loss: 0.2502 - val_accuracy: 0.9174\n",
            "Epoch 30/64\n",
            "860/860 [==============================] - 36s 42ms/step - loss: 0.1093 - accuracy: 0.9613 - val_loss: 0.2596 - val_accuracy: 0.9164\n",
            "Epoch 31/64\n",
            "860/860 [==============================] - 36s 42ms/step - loss: 0.1061 - accuracy: 0.9632 - val_loss: 0.2527 - val_accuracy: 0.9132\n",
            "Epoch 32/64\n",
            "860/860 [==============================] - 36s 42ms/step - loss: 0.1027 - accuracy: 0.9646 - val_loss: 0.2594 - val_accuracy: 0.9120\n",
            "Epoch 33/64\n",
            "860/860 [==============================] - 36s 42ms/step - loss: 0.1007 - accuracy: 0.9654 - val_loss: 0.2607 - val_accuracy: 0.9146\n",
            "Epoch 34/64\n",
            "860/860 [==============================] - 36s 42ms/step - loss: 0.0972 - accuracy: 0.9663 - val_loss: 0.3342 - val_accuracy: 0.8984\n",
            "Epoch 35/64\n",
            "860/860 [==============================] - 36s 42ms/step - loss: 0.0941 - accuracy: 0.9688 - val_loss: 0.3029 - val_accuracy: 0.9040\n",
            "Epoch 36/64\n",
            "860/860 [==============================] - 36s 42ms/step - loss: 0.0919 - accuracy: 0.9690 - val_loss: 0.2837 - val_accuracy: 0.9102\n",
            "Epoch 37/64\n",
            "860/860 [==============================] - 36s 42ms/step - loss: 0.0892 - accuracy: 0.9694 - val_loss: 0.2643 - val_accuracy: 0.9114\n",
            "Epoch 38/64\n",
            "860/860 [==============================] - 36s 42ms/step - loss: 0.0872 - accuracy: 0.9707 - val_loss: 0.2680 - val_accuracy: 0.9150\n",
            "Epoch 39/64\n",
            "860/860 [==============================] - 37s 43ms/step - loss: 0.0858 - accuracy: 0.9710 - val_loss: 0.2704 - val_accuracy: 0.9134\n",
            "Epoch 40/64\n",
            "860/860 [==============================] - 37s 43ms/step - loss: 0.0819 - accuracy: 0.9730 - val_loss: 0.2684 - val_accuracy: 0.9128\n",
            "Epoch 41/64\n",
            "860/860 [==============================] - 36s 42ms/step - loss: 0.0787 - accuracy: 0.9737 - val_loss: 0.2606 - val_accuracy: 0.9172\n",
            "Epoch 42/64\n",
            "860/860 [==============================] - 36s 42ms/step - loss: 0.0770 - accuracy: 0.9748 - val_loss: 0.2606 - val_accuracy: 0.9170\n",
            "Epoch 43/64\n",
            "860/860 [==============================] - 36s 42ms/step - loss: 0.0741 - accuracy: 0.9763 - val_loss: 0.3622 - val_accuracy: 0.8876\n",
            "Epoch 44/64\n",
            "860/860 [==============================] - 37s 42ms/step - loss: 0.0718 - accuracy: 0.9767 - val_loss: 0.2783 - val_accuracy: 0.9152\n",
            "Epoch 45/64\n",
            "860/860 [==============================] - 36s 42ms/step - loss: 0.0689 - accuracy: 0.9774 - val_loss: 0.3001 - val_accuracy: 0.9060\n",
            "Epoch 46/64\n",
            "860/860 [==============================] - 36s 42ms/step - loss: 0.0679 - accuracy: 0.9779 - val_loss: 0.2830 - val_accuracy: 0.9154\n",
            "Epoch 47/64\n",
            "860/860 [==============================] - 36s 42ms/step - loss: 0.0653 - accuracy: 0.9783 - val_loss: 0.2688 - val_accuracy: 0.9190\n",
            "Epoch 48/64\n",
            "860/860 [==============================] - 37s 43ms/step - loss: 0.0637 - accuracy: 0.9796 - val_loss: 0.2878 - val_accuracy: 0.9156\n",
            "Epoch 49/64\n",
            "860/860 [==============================] - 37s 43ms/step - loss: 0.0603 - accuracy: 0.9812 - val_loss: 0.2773 - val_accuracy: 0.9158\n",
            "Epoch 50/64\n",
            "860/860 [==============================] - 37s 43ms/step - loss: 0.0597 - accuracy: 0.9807 - val_loss: 0.2792 - val_accuracy: 0.9166\n",
            "Epoch 51/64\n",
            "860/860 [==============================] - 37s 43ms/step - loss: 0.0567 - accuracy: 0.9828 - val_loss: 0.2938 - val_accuracy: 0.9152\n",
            "Epoch 52/64\n",
            "860/860 [==============================] - 37s 43ms/step - loss: 0.0552 - accuracy: 0.9824 - val_loss: 0.3009 - val_accuracy: 0.9128\n",
            "Epoch 53/64\n",
            "860/860 [==============================] - 37s 43ms/step - loss: 0.0536 - accuracy: 0.9832 - val_loss: 0.2999 - val_accuracy: 0.9124\n",
            "Epoch 54/64\n",
            "860/860 [==============================] - 37s 42ms/step - loss: 0.0512 - accuracy: 0.9842 - val_loss: 0.3278 - val_accuracy: 0.9092\n",
            "Epoch 55/64\n",
            "860/860 [==============================] - 37s 43ms/step - loss: 0.0486 - accuracy: 0.9856 - val_loss: 0.3209 - val_accuracy: 0.9098\n",
            "Epoch 56/64\n",
            "860/860 [==============================] - 37s 43ms/step - loss: 0.0470 - accuracy: 0.9855 - val_loss: 0.3315 - val_accuracy: 0.9078\n",
            "Epoch 57/64\n",
            "860/860 [==============================] - 36s 42ms/step - loss: 0.0449 - accuracy: 0.9867 - val_loss: 0.3058 - val_accuracy: 0.9150\n",
            "Epoch 58/64\n",
            "860/860 [==============================] - 36s 42ms/step - loss: 0.0432 - accuracy: 0.9875 - val_loss: 0.3107 - val_accuracy: 0.9110\n",
            "Epoch 59/64\n",
            "860/860 [==============================] - 36s 42ms/step - loss: 0.0418 - accuracy: 0.9879 - val_loss: 0.3168 - val_accuracy: 0.9120\n",
            "Epoch 60/64\n",
            "860/860 [==============================] - 36s 42ms/step - loss: 0.0395 - accuracy: 0.9884 - val_loss: 0.3041 - val_accuracy: 0.9192\n",
            "Epoch 61/64\n",
            "860/860 [==============================] - 36s 42ms/step - loss: 0.0391 - accuracy: 0.9886 - val_loss: 0.3020 - val_accuracy: 0.9174\n",
            "Epoch 62/64\n",
            "860/860 [==============================] - 36s 42ms/step - loss: 0.0367 - accuracy: 0.9899 - val_loss: 0.3193 - val_accuracy: 0.9170\n",
            "Epoch 63/64\n",
            "860/860 [==============================] - 36s 42ms/step - loss: 0.0366 - accuracy: 0.9892 - val_loss: 0.3409 - val_accuracy: 0.9090\n",
            "Epoch 64/64\n",
            "860/860 [==============================] - 36s 41ms/step - loss: 0.0339 - accuracy: 0.9904 - val_loss: 0.3082 - val_accuracy: 0.9178\n"
          ],
          "name": "stdout"
        }
      ]
    },
    {
      "cell_type": "code",
      "metadata": {
        "colab": {
          "base_uri": "https://localhost:8080/",
          "height": 324
        },
        "id": "wlU_dRb2OXYh",
        "outputId": "772a9518-e696-41ef-b723-5665e0e8449f"
      },
      "source": [
        "import pandas as pd\r\n",
        "pd.DataFrame(model_history.history).plot(figsize=(8,5))\r\n",
        "plt.grid(True)\r\n",
        "plt.gca().set_ylim(0,1)\r\n",
        "plt.show()"
      ],
      "execution_count": 21,
      "outputs": [
        {
          "output_type": "display_data",
          "data": {
            "image/png": "[encoded data removed]",
            "text/plain": [
              "<Figure size 576x360 with 1 Axes>"
            ]
          },
          "metadata": {
            "tags": [],
            "needs_background": "light"
          }
        }
      ]
    },
    {
      "cell_type": "code",
      "metadata": {
        "colab": {
          "base_uri": "https://localhost:8080/"
        },
        "id": "0DLwO8SCcyhY",
        "outputId": "8881192f-bb33-4274-bb62-62263367de78"
      },
      "source": [
        "ev= model.evaluate(X_test_n,y_test)"
      ],
      "execution_count": 22,
      "outputs": [
        {
          "output_type": "stream",
          "text": [
            "313/313 [==============================] - 3s 9ms/step - loss: 0.3280 - accuracy: 0.9143\n"
          ],
          "name": "stdout"
        }
      ]
    },
    {
      "cell_type": "code",
      "metadata": {
        "colab": {
          "base_uri": "https://localhost:8080/"
        },
        "id": "ajtVQZOmdUaS",
        "outputId": "48d8ce67-371d-4422-8872-503bdd47b5ca"
      },
      "source": [
        "ev"
      ],
      "execution_count": 23,
      "outputs": [
        {
          "output_type": "execute_result",
          "data": {
            "text/plain": [
              "[0.3280486464500427, 0.9143000245094299]"
            ]
          },
          "metadata": {
            "tags": []
          },
          "execution_count": 23
        }
      ]
    },
    {
      "cell_type": "code",
      "metadata": {
        "id": "0qARb9wYdU6M"
      },
      "source": [
        "X_new=X_test[:3]"
      ],
      "execution_count": 24,
      "outputs": []
    },
    {
      "cell_type": "code",
      "metadata": {
        "colab": {
          "base_uri": "https://localhost:8080/"
        },
        "id": "rPYVuzOBdiHo",
        "outputId": "2e919113-27a4-4386-de59-918002667a0e"
      },
      "source": [
        "y_pred=model.predict_classes(X_new)\r\n",
        "y_pred"
      ],
      "execution_count": 25,
      "outputs": [
        {
          "output_type": "stream",
          "text": [
            "/usr/local/lib/python3.7/dist-packages/tensorflow/python/keras/engine/sequential.py:450: UserWarning: `model.predict_classes()` is deprecated and will be removed after 2021-01-01. Please use instead:* `np.argmax(model.predict(x), axis=-1)`,   if your model does multi-class classification   (e.g. if it uses a `softmax` last-layer activation).* `(model.predict(x) > 0.5).astype(\"int32\")`,   if your model does binary classification   (e.g. if it uses a `sigmoid` last-layer activation).\n",
            "  warnings.warn('`model.predict_classes()` is deprecated and '\n"
          ],
          "name": "stderr"
        },
        {
          "output_type": "execute_result",
          "data": {
            "text/plain": [
              "array([9, 2, 1])"
            ]
          },
          "metadata": {
            "tags": []
          },
          "execution_count": 25
        }
      ]
    },
    {
      "cell_type": "code",
      "metadata": {
        "colab": {
          "base_uri": "https://localhost:8080/"
        },
        "id": "e3WjTmkTdxZF",
        "outputId": "d8ffc87b-87b2-4809-ebf7-4a44dcbf5f85"
      },
      "source": [
        "y_test"
      ],
      "execution_count": 26,
      "outputs": [
        {
          "output_type": "execute_result",
          "data": {
            "text/plain": [
              "array([9, 2, 1, ..., 8, 1, 5], dtype=uint8)"
            ]
          },
          "metadata": {
            "tags": []
          },
          "execution_count": 26
        }
      ]
    },
    {
      "cell_type": "code",
      "metadata": {
        "colab": {
          "base_uri": "https://localhost:8080/",
          "height": 282
        },
        "id": "Q5P6z9Z8dzid",
        "outputId": "88709de4-bcfc-4d29-e3da-515f5d25b901"
      },
      "source": [
        "print(plt.imshow(X_test[0].reshape((28,28))))"
      ],
      "execution_count": 27,
      "outputs": [
        {
          "output_type": "stream",
          "text": [
            "AxesImage(54,36;334.8x217.44)\n"
          ],
          "name": "stdout"
        },
        {
          "output_type": "display_data",
          "data": {
            "image/png": "[encoded data removed]",
            "text/plain": [
              "<Figure size 432x288 with 1 Axes>"
            ]
          },
          "metadata": {
            "tags": [],
            "needs_background": "light"
          }
        }
      ]
    }
  ]
}